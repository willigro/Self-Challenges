{
 "cells": [
  {
   "cell_type": "markdown",
   "metadata": {},
   "source": [
    "# Imports"
   ]
  },
  {
   "cell_type": "code",
   "execution_count": 14,
   "metadata": {},
   "outputs": [],
   "source": [
    "#!/usr/bin/python\n",
    "# import os\n",
    "# import io\n",
    "# from array import array\n",
    "import math"
   ]
  },
  {
   "cell_type": "markdown",
   "metadata": {},
   "source": [
    "# Particle"
   ]
  },
  {
   "cell_type": "code",
   "execution_count": 15,
   "metadata": {},
   "outputs": [],
   "source": [
    "class Particle:\n",
    "    def __init__(self, arr, type):\n",
    "        self.arr = arr\n",
    "        self.type = type"
   ]
  },
  {
   "cell_type": "markdown",
   "metadata": {},
   "source": [
    "# Variables"
   ]
  },
  {
   "cell_type": "code",
   "execution_count": 16,
   "metadata": {},
   "outputs": [],
   "source": [
    "K = 3\n",
    "population = []\n",
    "mainParticle = Particle([], 0)\n",
    "CLASS_NONE = 0\n",
    "CLASS_A = 1\n",
    "CLASS_B = 2"
   ]
  },
  {
   "cell_type": "markdown",
   "metadata": {},
   "source": [
    "# Methods of the KNN"
   ]
  },
  {
   "cell_type": "code",
   "execution_count": 4,
   "metadata": {},
   "outputs": [],
   "source": [
    "def image_to_bytearr(file):\n",
    "    with open(file, \"rb\") as image:\n",
    "        f = image.read()\n",
    "        return bytearray(f)"
   ]
  },
  {
   "cell_type": "code",
   "execution_count": 5,
   "metadata": {},
   "outputs": [],
   "source": [
    "def distance(arr1, arr2):\n",
    "    len1 = len(arr1)\n",
    "    len2 = len(arr2)\n",
    "    \n",
    "    if(len1 > len2):\n",
    "        a = len2\n",
    "    else:\n",
    "        a = len1\n",
    "        \n",
    "    for i in range(a):\n",
    "        a += math.pow(arr1[i] - arr2[i], 2)\n",
    "    return math.sqrt(a)"
   ]
  },
  {
   "cell_type": "code",
   "execution_count": 6,
   "metadata": {},
   "outputs": [],
   "source": [
    "def insert_and_sort(particle, distance, list):\n",
    "    leng = len(list)\n",
    "    if (leng == 0):\n",
    "        list.append([particle, distance])\n",
    "    else:\n",
    "        i = 0\n",
    "        inserted = False\n",
    "        while (i < leng):\n",
    "            if (distance < list[i][1]):\n",
    "                list.insert(i, [particle, distance])\n",
    "                inserted = True\n",
    "                break\n",
    "            i += 1\n",
    "        if (not inserted):\n",
    "            list.append([particle, distance])\n",
    "    "
   ]
  },
  {
   "cell_type": "code",
   "execution_count": 17,
   "metadata": {},
   "outputs": [],
   "source": [
    "def init_KNN(actualParticle):\n",
    "    ordernedPopulation = []\n",
    "    littleParticles = []\n",
    "    for p in population:\n",
    "        d = distance(actualParticle.arr, p.arr)\n",
    "        insert_and_sort(p, d, ordernedPopulation)\n",
    "    \n",
    "    count = [[0, CLASS_A],[0, CLASS_B]]\n",
    "    \n",
    "    for i in range(K):\n",
    "        if (not ordernedPopulation[i]):\n",
    "            continue\n",
    "        if (ordernedPopulation[i][0].type == CLASS_A):\n",
    "            count[0][0]+= 1\n",
    "        elif (ordernedPopulation[i][0].type == CLASS_B):\n",
    "            count[1][0]+= 1\n",
    "        \n",
    "        littleParticles.append(ordernedPopulation[i])\n",
    "    \n",
    "    high = 0\n",
    "    for i in range(len(count)):\n",
    "        if (i == 0):\n",
    "            high = count[0]\n",
    "        else:\n",
    "            if (count[i][0] > count[i - 1][0]):\n",
    "                high = count[i]\n",
    "\n",
    "    # print(high[1])\n",
    "    print(count)"
   ]
  },
  {
   "cell_type": "markdown",
   "metadata": {},
   "source": [
    "# Images"
   ]
  },
  {
   "cell_type": "code",
   "execution_count": 18,
   "metadata": {},
   "outputs": [],
   "source": [
    "base = \"D:\\Rittmann\\Projetos\\Self Challenges\\Self-Challenges\\knn\\img_knn_js/\"\n",
    "two1 = image_to_bytearr(base + \"two1.jpg\")\n",
    "two2 = image_to_bytearr(base + \"two2.jpg\")\n",
    "two3 = image_to_bytearr(base + \"two3.jpg\")\n",
    "two4 = image_to_bytearr(base + \"two4.jpg\")\n",
    "two5 = image_to_bytearr(base + \"two5.jpg\")\n",
    "two6 = image_to_bytearr(base + \"two6.jpg\")\n",
    "three1 = image_to_bytearr(base + \"three1.jpg\")\n",
    "three2 = image_to_bytearr(base + \"three2.jpg\")\n",
    "three3 = image_to_bytearr(base + \"three3.jpg\")\n",
    "three4 = image_to_bytearr(base + \"three4.jpg\")\n",
    "three5 = image_to_bytearr(base + \"three5.jpg\")\n",
    "three6 = image_to_bytearr(base + \"three6.jpg\")"
   ]
  },
  {
   "cell_type": "markdown",
   "metadata": {},
   "source": [
    "# Configuration of the population"
   ]
  },
  {
   "cell_type": "code",
   "execution_count": 19,
   "metadata": {},
   "outputs": [],
   "source": [
    "population = []\n",
    "\n",
    "# CLASS A\n",
    "population.append(Particle(two1, CLASS_A))\n",
    "population.append(Particle(two2, CLASS_A))\n",
    "population.append(Particle(two3, CLASS_A))\n",
    "population.append(Particle(two4, CLASS_A))\n",
    "population.append(Particle(two5, CLASS_A))\n",
    "population.append(Particle(two6, CLASS_A))\n",
    "\n",
    "# CLASS B\n",
    "population.append(Particle(three1, CLASS_B))\n",
    "population.append(Particle(three2, CLASS_B))\n",
    "population.append(Particle(three3, CLASS_B))\n",
    "population.append(Particle(three6, CLASS_B))\n",
    "population.append(Particle(three6, CLASS_B))\n",
    "population.append(Particle(three6, CLASS_B))"
   ]
  },
  {
   "cell_type": "markdown",
   "metadata": {},
   "source": [
    "# Execution"
   ]
  },
  {
   "cell_type": "code",
   "execution_count": 12,
   "metadata": {},
   "outputs": [
    {
     "name": "stdout",
     "output_type": "stream",
     "text": [
      "[[3, 1], [0, 2]]\n",
      "[[1, 1], [2, 2]]\n",
      "[[3, 1], [0, 2]]\n",
      "[[1, 1], [2, 2]]\n",
      "[[3, 1], [0, 2]]\n"
     ]
    }
   ],
   "source": [
    "init_KNN(mainParticle)\n",
    "\n",
    "mainParticle = Particle(three1, CLASS_NONE)\n",
    "init_KNN(mainParticle)\n",
    "\n",
    "mainParticle = Particle(two3, CLASS_NONE)\n",
    "init_KNN(mainParticle)\n",
    "\n",
    "mainParticle = Particle(two2, CLASS_NONE)\n",
    "init_KNN(mainParticle)\n",
    "\n",
    "mainParticle = Particle(two1, CLASS_NONE)\n",
    "init_KNN(mainParticle)"
   ]
  },
  {
   "cell_type": "code",
   "execution_count": null,
   "metadata": {},
   "outputs": [],
   "source": []
  }
 ],
 "metadata": {
  "kernelspec": {
   "display_name": "Python 3",
   "language": "python",
   "name": "python3"
  },
  "language_info": {
   "codemirror_mode": {
    "name": "ipython",
    "version": 3
   },
   "file_extension": ".py",
   "mimetype": "text/x-python",
   "name": "python",
   "nbconvert_exporter": "python",
   "pygments_lexer": "ipython3",
   "version": "3.7.4"
  }
 },
 "nbformat": 4,
 "nbformat_minor": 2
}
